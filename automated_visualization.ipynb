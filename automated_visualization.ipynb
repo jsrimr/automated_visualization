{
 "cells": [
  {
   "cell_type": "code",
   "execution_count": 1,
   "metadata": {},
   "outputs": [],
   "source": [
    "import matplotlib.pyplot as plt\n",
    "import subprocess\n",
    "import re"
   ]
  },
  {
   "cell_type": "markdown",
   "metadata": {},
   "source": [
    "# pub / sub Throughput"
   ]
  },
  {
   "cell_type": "code",
   "execution_count": 2,
   "metadata": {},
   "outputs": [],
   "source": [
    "throughput_repeat = 10000\n",
    "n_pub = 1\n",
    "n_sub = 1\n",
    "n_channel = 4"
   ]
  },
  {
   "cell_type": "code",
   "execution_count": 3,
   "metadata": {},
   "outputs": [],
   "source": [
    "#CLOA\n",
    "batcmd=f\"ssh ec2-user@52.3.187.162 -i ~/cloakey.pem ./bench 172.31.21.234 4242 {throughput_repeat} {n_pub} {n_sub} {n_channel}\"\n",
    "result = subprocess.check_output(batcmd, shell=True, text = True)\n",
    "result = result.strip()\n",
    "\n",
    "result_ls = result.split('rps')\n",
    "pub_throughput = result_ls[0].split(' ')[-1]\n",
    "sub_throughput = result_ls[1].split(' ')[-1]\n",
    "cloa_throughput = list(map(int , [pub_throughput, sub_throughput]))"
   ]
  },
  {
   "cell_type": "code",
   "execution_count": 4,
   "metadata": {},
   "outputs": [],
   "source": [
    "# Redis\n",
    "batcmd=f\"ssh ec2-user@52.3.187.162 -i ~/cloakey.pem ./bench 172.31.21.234 6379 {throughput_repeat} {n_pub} {n_sub} {n_channel} redis\"\n",
    "result = subprocess.check_output(batcmd, shell=True, text = True)\n",
    "result = result.strip()\n",
    "\n",
    "result_ls = result.split('rps')\n",
    "pub_throughput = result_ls[0].split(' ')[-1]\n",
    "sub_throughput = result_ls[1].split(' ')[-1]\n",
    "redis_throughput = list(map(int,[pub_throughput, sub_throughput]))"
   ]
  },
  {
   "cell_type": "code",
   "execution_count": 5,
   "metadata": {},
   "outputs": [],
   "source": [
    "# Redis-C\n",
    "batcmd=f\"ssh ec2-user@52.3.187.162 -i ~/cloakey.pem ./bench 172.31.21.234 5000 {throughput_repeat} {n_pub} {n_sub} {n_channel} redis\"\n",
    "result = subprocess.check_output(batcmd, shell=True, text = True)\n",
    "result = result.strip()\n",
    "\n",
    "result_ls = result.split('rps')\n",
    "pub_throughput = result_ls[0].split(' ')[-1]\n",
    "sub_throughput = result_ls[1].split(' ')[-1]\n",
    "redis_c_throughput = list(map(int,[pub_throughput, sub_throughput]))"
   ]
  },
  {
   "cell_type": "markdown",
   "metadata": {},
   "source": [
    "## Get / Set Throughput"
   ]
  },
  {
   "cell_type": "code",
   "execution_count": 6,
   "metadata": {},
   "outputs": [
    {
     "data": {
      "text/plain": [
       "'SET: -nan\\nSET: 82368.00\\nSET: 82908.00\\nSET: 83036.00\\nSET: 83101.00\\n====== SET ======\\n  100000 requests completed in 1.21 seconds\\n  50 parallel clients\\n  3 bytes payload\\n  keep alive: 1\\n\\n99.92% <= 1 milliseconds\\n100.00% <= 1 milliseconds\\n82987.55 requests per second'"
      ]
     },
     "execution_count": 6,
     "metadata": {},
     "output_type": "execute_result"
    }
   ],
   "source": [
    "# Redis SET\n",
    "batcmd=f\"ssh ec2-user@52.3.187.162 -i ~/cloakey.pem ./redis-benchmark -h 172.31.21.234 -t set\"\n",
    "result = subprocess.check_output(batcmd, shell=True, text = True)\n",
    "result = result.strip()\n",
    "result"
   ]
  },
  {
   "cell_type": "code",
   "execution_count": 7,
   "metadata": {},
   "outputs": [],
   "source": [
    "p = re.compile(r'(\\d+\\.\\d+) requests per second')\n",
    "\n",
    "m = p.search(result)\n",
    "redis_set_throughput = [float(m.group(1))]"
   ]
  },
  {
   "cell_type": "code",
   "execution_count": 8,
   "metadata": {},
   "outputs": [
    {
     "data": {
      "text/plain": [
       "'SET: -nan\\nSET: 84388.00\\nSET: 84488.00\\nSET: 84588.00\\nSET: 84641.00\\n====== SET ======\\n  100000 requests completed in 1.18 seconds\\n  50 parallel clients\\n  3 bytes payload\\n  keep alive: 1\\n\\n99.96% <= 1 milliseconds\\n99.99% <= 2 milliseconds\\n99.99% <= 3 milliseconds\\n100.00% <= 4 milliseconds\\n100.00% <= 4 milliseconds\\n84674.01 requests per second'"
      ]
     },
     "execution_count": 8,
     "metadata": {},
     "output_type": "execute_result"
    }
   ],
   "source": [
    "# Redis-c SET\n",
    "batcmd=f\"ssh ec2-user@52.3.187.162 -i ~/cloakey.pem ./redis-benchmark -h 172.31.21.234 -p 5000 -t set\"\n",
    "result = subprocess.check_output(batcmd, shell=True, text = True)\n",
    "result = result.strip()\n",
    "result"
   ]
  },
  {
   "cell_type": "code",
   "execution_count": 9,
   "metadata": {},
   "outputs": [],
   "source": [
    "p = re.compile(r'(\\d+\\.\\d+) requests per second')\n",
    "\n",
    "m = p.search(result)\n",
    "redis_c_set_throughput = [float(m.group(1))]"
   ]
  },
  {
   "cell_type": "code",
   "execution_count": 10,
   "metadata": {},
   "outputs": [
    {
     "data": {
      "text/plain": [
       "'GET: -nan\\nGET: 83856.00\\nGET: 84316.00\\nGET: 84474.66\\nGET: 84571.00\\n====== GET ======\\n  100000 requests completed in 1.18 seconds\\n  50 parallel clients\\n  3 bytes payload\\n  keep alive: 1\\n\\n99.95% <= 1 milliseconds\\n99.97% <= 3 milliseconds\\n99.98% <= 4 milliseconds\\n100.00% <= 4 milliseconds\\n84674.01 requests per second'"
      ]
     },
     "execution_count": 10,
     "metadata": {},
     "output_type": "execute_result"
    }
   ],
   "source": [
    "# Redis GET\n",
    "batcmd=f\"ssh ec2-user@52.3.187.162 -i ~/cloakey.pem ./redis-benchmark -h 172.31.21.234 -t get\"\n",
    "result = subprocess.check_output(batcmd, shell=True, text = True)\n",
    "result = result.strip()\n",
    "result"
   ]
  },
  {
   "cell_type": "code",
   "execution_count": 11,
   "metadata": {},
   "outputs": [],
   "source": [
    "p = re.compile(r'(\\d+\\.\\d+) requests per second')\n",
    "\n",
    "m = p.search(result)\n",
    "redis_get_throughput = [float(m.group(1))]"
   ]
  },
  {
   "cell_type": "code",
   "execution_count": 12,
   "metadata": {},
   "outputs": [
    {
     "data": {
      "text/plain": [
       "'GET: 0.00\\nGET: 83386.46\\nGET: 83678.65\\nGET: 83917.45\\nGET: 84052.95\\n====== GET ======\\n  100000 requests completed in 1.19 seconds\\n  50 parallel clients\\n  3 bytes payload\\n  keep alive: 1\\n\\n99.94% <= 1 milliseconds\\n100.00% <= 1 milliseconds\\n84033.61 requests per second'"
      ]
     },
     "execution_count": 12,
     "metadata": {},
     "output_type": "execute_result"
    }
   ],
   "source": [
    "# Redis-c GET\n",
    "batcmd=f\"ssh ec2-user@52.3.187.162 -i ~/cloakey.pem ./redis-benchmark -h 172.31.21.234 -p 5000 -t get\"\n",
    "result = subprocess.check_output(batcmd, shell=True, text = True)\n",
    "result = result.strip()\n",
    "result"
   ]
  },
  {
   "cell_type": "code",
   "execution_count": 13,
   "metadata": {},
   "outputs": [],
   "source": [
    "p = re.compile(r'(\\d+\\.\\d+) requests per second')\n",
    "\n",
    "m = p.search(result)\n",
    "redis_c_get_throughput = [float(m.group(1))]"
   ]
  },
  {
   "cell_type": "markdown",
   "metadata": {},
   "source": [
    "### 패턴 만들때 유의할점"
   ]
  },
  {
   "cell_type": "markdown",
   "metadata": {},
   "source": [
    "#틀린 패턴 : 모든 부분을 다 설명할 필요없다\n",
    "p = re.compile(r'.*(\\d+\\.[0-9]*) requests per second')"
   ]
  },
  {
   "cell_type": "markdown",
   "metadata": {},
   "source": [
    "#올바른 패턴 : 찾을 부분만 설명한다\n",
    "p = re.compile(r'(\\d+\\.\\d+) requests per second')\n",
    "\n",
    "m = p.search(result)\n",
    "m.group(1)"
   ]
  },
  {
   "cell_type": "markdown",
   "metadata": {},
   "source": [
    "# E2E Latency"
   ]
  },
  {
   "cell_type": "code",
   "execution_count": 17,
   "metadata": {},
   "outputs": [],
   "source": [
    "REPEAT = 10000"
   ]
  },
  {
   "cell_type": "code",
   "execution_count": 18,
   "metadata": {},
   "outputs": [],
   "source": [
    "\n",
    "p = re.compile('avg Latency ([0-9|.]*)')"
   ]
  },
  {
   "cell_type": "code",
   "execution_count": 19,
   "metadata": {},
   "outputs": [],
   "source": [
    "#redis\n",
    "batcmd = f\"ssh ec2-user@18.235.181.217 -i ~/cloakey.pem ./e2e -h 172.31.21.234:6379 -b redis -c {REPEAT}\"\n",
    "result = subprocess.check_output(batcmd, shell=True, text = True)\n",
    "result\n",
    "\n",
    "m = p.search(result)\n",
    "cloa_e2e_latency = [float(m.group(1))]"
   ]
  },
  {
   "cell_type": "code",
   "execution_count": null,
   "metadata": {},
   "outputs": [],
   "source": [
    "#cloa\n",
    "batcmd = f\"ssh ec2-user@18.235.181.217 -i ~/cloakey.pem ./e2e -h 172.31.21.234:4242 -b cloa -c {REPEAT}\"\n",
    "result = subprocess.check_output(batcmd, shell=True, text = True)\n",
    "result\n",
    "\n",
    "m = p.search(result)\n",
    "\n",
    "redis_e2e_latency = [float(m.group(1))]"
   ]
  },
  {
   "cell_type": "code",
   "execution_count": null,
   "metadata": {},
   "outputs": [],
   "source": [
    "#redis-c\n",
    "batcmd = f\"ssh ec2-user@18.235.181.217 -i ~/cloakey.pem ./e2e -h 172.31.21.234:6379 -b redis -c {REPEAT}\"\n",
    "result = subprocess.check_output(batcmd, shell=True, text = True)\n",
    "result\n",
    "\n",
    "m = p.search(result)\n",
    "redis_c_e2e_latency = [float(m.group(1))]"
   ]
  },
  {
   "cell_type": "code",
   "execution_count": null,
   "metadata": {},
   "outputs": [],
   "source": [
    "%matplotlib notebook"
   ]
  },
  {
   "cell_type": "code",
   "execution_count": null,
   "metadata": {},
   "outputs": [],
   "source": [
    "plt.scatter(redis_e2e_latency[0],redis_throughput[0], label = \"redis_pub\",  color= \"red\", alpha = 0.5, marker = 'v')\n",
    "plt.scatter(redis_e2e_latency[0],redis_throughput[1], label = \"redis_sub\", color= \"red\", alpha = 0.5, marker = '^')\n",
    "\n",
    "plt.scatter(redis_c_e2e_latency[0],redis_c_throughput[0], label = \"redis_c_pub\",  color= \"yellow\", alpha = 0.5, marker = 'v')\n",
    "plt.scatter(redis_c_e2e_latency[0],redis_c_throughput[1], label = \"redis_c_sub\", color= \"yellow\", alpha = 0.5, marker = '^')\n",
    "\n",
    "plt.scatter(cloa_e2e_latency[0],cloa_throughput[0], label = \"cloa_pub\", color = \"blue\", alpha = 0.5, marker = 'v')\n",
    "plt.scatter(cloa_e2e_latency[0],cloa_throughput[1], label = \"cloa_sub\", color = \"blue\", alpha = 0.5, marker = '^')\n",
    "\n",
    "\n",
    "plt.legend()\n",
    "plt.xlabel(\"EndToEnd Latency (ms)\")\n",
    "plt.ylabel(\"Throughput (rps)\")\n",
    "plt.title(\"Latency-Throughput Graph\")\n",
    "plt.tight_layout()\n",
    "plt.show()"
   ]
  },
  {
   "cell_type": "code",
   "execution_count": null,
   "metadata": {},
   "outputs": [],
   "source": []
  }
 ],
 "metadata": {
  "kernelspec": {
   "display_name": "RL",
   "language": "python",
   "name": "rl"
  },
  "language_info": {
   "codemirror_mode": {
    "name": "ipython",
    "version": 3
   },
   "file_extension": ".py",
   "mimetype": "text/x-python",
   "name": "python",
   "nbconvert_exporter": "python",
   "pygments_lexer": "ipython3",
   "version": "3.7.2"
  }
 },
 "nbformat": 4,
 "nbformat_minor": 2
}
